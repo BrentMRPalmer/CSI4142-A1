{
 "cells": [
  {
   "cell_type": "markdown",
   "id": "c90b97d0-0322-495f-b0e2-5da5dd35c0d4",
   "metadata": {},
   "source": [
    "# Assignment 1: Exploratory Data Analysis\n",
    "## Group 22\n",
    "- Natasa Bolic (300241734)\n",
    "- Brent Palmer (300193610)\n",
    "## Imports"
   ]
  },
  {
   "cell_type": "code",
   "execution_count": 1,
   "id": "c390ebf8-1d95-451f-b62d-267ee1743e2d",
   "metadata": {},
   "outputs": [],
   "source": [
    "import pandas as pd\n",
    "import numpy as np\n",
    "import matplotlib.pyplot as plt\n",
    "import seaborn as sns"
   ]
  },
  {
   "cell_type": "markdown",
   "id": "c9133aee-cb28-498e-af3f-a1c3ded8ca98",
   "metadata": {},
   "source": [
    "# Dataset 1: The Influence of Demographics on Digital Consumption"
   ]
  },
  {
   "cell_type": "markdown",
   "id": "61ee889a-cabf-464b-9121-feb9fb7e90d5",
   "metadata": {},
   "source": [
    "### Dataset Description\n",
    "**Url:** https://archive.ics.uci.edu/dataset/144/statlog+german+credit+data <br>\n",
    "**Name:** German Credit Risk <br>\n",
    "**Author:** UCI Machine Learning <br>\n",
    "**Purpose:** The dataset was originally created with the intent of classifying people as good or bad credit risks based on specified attributes.<br>\n",
    "**Shape:** There are 1000 rows and 10 columns. (1000, 10)<br>\n",
    "**Features:** \n",
    "- `Unnamed: 0` (categorical): A unique id assigned to each person who took credit.\n",
    "- `Age` (numerical): The age of the person.\n",
    "- `Sex` (categorical): The sex of the person (male or female).\n",
    "- `Job` (categorical): The category of job of the person.\n",
    "    - 0: Unskilled and non-resident\n",
    "    - 1: Unskilled and resident\n",
    "    - 2: Skilled\n",
    "    - 3: Highly skilled\n",
    "- `Housing` (categorical): Ownership status of the person's place of residence.\n",
    "    - own: They own their home\n",
    "    - rent: They rent their home\n",
    "    - free: The person does not pay for their residence (friends and family, employer-provided, government-assisted, etc.)\n",
    "- `Saving accounts` (categorical): How much money the person has in saving accounts.\n",
    "    - litte: x < 100 Deutschmark (DM)\n",
    "    - moderate: 100 <= x < 500 DM\n",
    "    - quite rich: 500 <= x < 1000 DM\n",
    "    - rich: x >= 1000 DM\n",
    "    - NaN: unknown or no savings account\n",
    "- `Checking account` (categorical): How much money the person has in checking accounts.\n",
    "    - little: x < 0 DM\n",
    "    - moderate: 0 <= x <  200 DM\n",
    "    - rich: x >= 200 DM / salary assignments for at least 1 year\n",
    "    - NaN: no checking account\n",
    "- `Credit amount` (numerical):\n",
    "- `Duration` (numerical):\n",
    "- `Purpose` (categorical):"
   ]
  },
  {
   "cell_type": "markdown",
   "id": "c044e985-c929-49c1-b471-8622cb23a13b",
   "metadata": {},
   "source": [
    "**Redundancy:** <br>\n",
    "**Missing Values:** "
   ]
  },
  {
   "cell_type": "markdown",
   "id": "26117b25-6cbc-45d6-bd2c-ae79479a63d5",
   "metadata": {},
   "source": [
    "## Dataset Overview (in Code)"
   ]
  },
  {
   "cell_type": "markdown",
   "id": "d58425d2-ac0b-4ed8-bd44-b988c787d41d",
   "metadata": {},
   "source": [
    "### Extract the Dataset (Mobile Device Usage and User Behaviour)"
   ]
  },
  {
   "cell_type": "code",
   "execution_count": 2,
   "id": "1ee91866-6345-4bef-a179-d451ae0b7140",
   "metadata": {},
   "outputs": [],
   "source": [
    "url = \"https://raw.githubusercontent.com/BrentMRPalmer/credit-data/refs/heads/main/german_credit_data.csv\"\n",
    "data = pd.read_csv(url)"
   ]
  },
  {
   "cell_type": "code",
   "execution_count": 81,
   "id": "7951e2a3-9912-42a9-be57-6d516c0f2755",
   "metadata": {},
   "outputs": [
    {
     "data": {
      "text/html": [
       "<div>\n",
       "<style scoped>\n",
       "    .dataframe tbody tr th:only-of-type {\n",
       "        vertical-align: middle;\n",
       "    }\n",
       "\n",
       "    .dataframe tbody tr th {\n",
       "        vertical-align: top;\n",
       "    }\n",
       "\n",
       "    .dataframe thead th {\n",
       "        text-align: right;\n",
       "    }\n",
       "</style>\n",
       "<table border=\"1\" class=\"dataframe\">\n",
       "  <thead>\n",
       "    <tr style=\"text-align: right;\">\n",
       "      <th></th>\n",
       "      <th>Unnamed: 0</th>\n",
       "      <th>Age</th>\n",
       "      <th>Sex</th>\n",
       "      <th>Job</th>\n",
       "      <th>Housing</th>\n",
       "      <th>Saving accounts</th>\n",
       "      <th>Checking account</th>\n",
       "      <th>Credit amount</th>\n",
       "      <th>Duration</th>\n",
       "      <th>Purpose</th>\n",
       "    </tr>\n",
       "  </thead>\n",
       "  <tbody>\n",
       "    <tr>\n",
       "      <th>0</th>\n",
       "      <td>0</td>\n",
       "      <td>67</td>\n",
       "      <td>male</td>\n",
       "      <td>2</td>\n",
       "      <td>own</td>\n",
       "      <td>NaN</td>\n",
       "      <td>little</td>\n",
       "      <td>1169</td>\n",
       "      <td>6</td>\n",
       "      <td>radio/TV</td>\n",
       "    </tr>\n",
       "    <tr>\n",
       "      <th>1</th>\n",
       "      <td>1</td>\n",
       "      <td>22</td>\n",
       "      <td>female</td>\n",
       "      <td>2</td>\n",
       "      <td>own</td>\n",
       "      <td>little</td>\n",
       "      <td>moderate</td>\n",
       "      <td>5951</td>\n",
       "      <td>48</td>\n",
       "      <td>radio/TV</td>\n",
       "    </tr>\n",
       "    <tr>\n",
       "      <th>2</th>\n",
       "      <td>2</td>\n",
       "      <td>49</td>\n",
       "      <td>male</td>\n",
       "      <td>1</td>\n",
       "      <td>own</td>\n",
       "      <td>little</td>\n",
       "      <td>NaN</td>\n",
       "      <td>2096</td>\n",
       "      <td>12</td>\n",
       "      <td>education</td>\n",
       "    </tr>\n",
       "    <tr>\n",
       "      <th>3</th>\n",
       "      <td>3</td>\n",
       "      <td>45</td>\n",
       "      <td>male</td>\n",
       "      <td>2</td>\n",
       "      <td>free</td>\n",
       "      <td>little</td>\n",
       "      <td>little</td>\n",
       "      <td>7882</td>\n",
       "      <td>42</td>\n",
       "      <td>furniture/equipment</td>\n",
       "    </tr>\n",
       "    <tr>\n",
       "      <th>4</th>\n",
       "      <td>4</td>\n",
       "      <td>53</td>\n",
       "      <td>male</td>\n",
       "      <td>2</td>\n",
       "      <td>free</td>\n",
       "      <td>little</td>\n",
       "      <td>little</td>\n",
       "      <td>4870</td>\n",
       "      <td>24</td>\n",
       "      <td>car</td>\n",
       "    </tr>\n",
       "  </tbody>\n",
       "</table>\n",
       "</div>"
      ],
      "text/plain": [
       "   Unnamed: 0  Age     Sex  Job Housing Saving accounts Checking account  \\\n",
       "0           0   67    male    2     own             NaN           little   \n",
       "1           1   22  female    2     own          little         moderate   \n",
       "2           2   49    male    1     own          little              NaN   \n",
       "3           3   45    male    2    free          little           little   \n",
       "4           4   53    male    2    free          little           little   \n",
       "\n",
       "   Credit amount  Duration              Purpose  \n",
       "0           1169         6             radio/TV  \n",
       "1           5951        48             radio/TV  \n",
       "2           2096        12            education  \n",
       "3           7882        42  furniture/equipment  \n",
       "4           4870        24                  car  "
      ]
     },
     "execution_count": 81,
     "metadata": {},
     "output_type": "execute_result"
    }
   ],
   "source": [
    "data.head()"
   ]
  },
  {
   "cell_type": "code",
   "execution_count": 4,
   "id": "785be8e0-daf3-459f-be93-baa7fbc6eaf0",
   "metadata": {},
   "outputs": [
    {
     "data": {
      "text/plain": [
       "(1000, 10)"
      ]
     },
     "execution_count": 4,
     "metadata": {},
     "output_type": "execute_result"
    }
   ],
   "source": [
    "data.shape"
   ]
  },
  {
   "cell_type": "code",
   "execution_count": 5,
   "id": "c5c8f2ee-72d6-4cd5-8bb7-fbbd17cc35b0",
   "metadata": {},
   "outputs": [
    {
     "name": "stdout",
     "output_type": "stream",
     "text": [
      "<class 'pandas.core.frame.DataFrame'>\n",
      "RangeIndex: 1000 entries, 0 to 999\n",
      "Data columns (total 10 columns):\n",
      " #   Column            Non-Null Count  Dtype \n",
      "---  ------            --------------  ----- \n",
      " 0   Unnamed: 0        1000 non-null   int64 \n",
      " 1   Age               1000 non-null   int64 \n",
      " 2   Sex               1000 non-null   object\n",
      " 3   Job               1000 non-null   int64 \n",
      " 4   Housing           1000 non-null   object\n",
      " 5   Saving accounts   817 non-null    object\n",
      " 6   Checking account  606 non-null    object\n",
      " 7   Credit amount     1000 non-null   int64 \n",
      " 8   Duration          1000 non-null   int64 \n",
      " 9   Purpose           1000 non-null   object\n",
      "dtypes: int64(5), object(5)\n",
      "memory usage: 78.3+ KB\n"
     ]
    }
   ],
   "source": [
    "data.info()"
   ]
  },
  {
   "cell_type": "code",
   "execution_count": 6,
   "id": "913086fa-9f1f-4892-a873-9ee3299daa6a",
   "metadata": {},
   "outputs": [
    {
     "data": {
      "text/html": [
       "<div>\n",
       "<style scoped>\n",
       "    .dataframe tbody tr th:only-of-type {\n",
       "        vertical-align: middle;\n",
       "    }\n",
       "\n",
       "    .dataframe tbody tr th {\n",
       "        vertical-align: top;\n",
       "    }\n",
       "\n",
       "    .dataframe thead th {\n",
       "        text-align: right;\n",
       "    }\n",
       "</style>\n",
       "<table border=\"1\" class=\"dataframe\">\n",
       "  <thead>\n",
       "    <tr style=\"text-align: right;\">\n",
       "      <th></th>\n",
       "      <th>Unnamed: 0</th>\n",
       "      <th>Age</th>\n",
       "      <th>Job</th>\n",
       "      <th>Credit amount</th>\n",
       "      <th>Duration</th>\n",
       "    </tr>\n",
       "  </thead>\n",
       "  <tbody>\n",
       "    <tr>\n",
       "      <th>count</th>\n",
       "      <td>1000.000000</td>\n",
       "      <td>1000.000000</td>\n",
       "      <td>1000.000000</td>\n",
       "      <td>1000.000000</td>\n",
       "      <td>1000.000000</td>\n",
       "    </tr>\n",
       "    <tr>\n",
       "      <th>mean</th>\n",
       "      <td>499.500000</td>\n",
       "      <td>35.546000</td>\n",
       "      <td>1.904000</td>\n",
       "      <td>3271.258000</td>\n",
       "      <td>20.903000</td>\n",
       "    </tr>\n",
       "    <tr>\n",
       "      <th>std</th>\n",
       "      <td>288.819436</td>\n",
       "      <td>11.375469</td>\n",
       "      <td>0.653614</td>\n",
       "      <td>2822.736876</td>\n",
       "      <td>12.058814</td>\n",
       "    </tr>\n",
       "    <tr>\n",
       "      <th>min</th>\n",
       "      <td>0.000000</td>\n",
       "      <td>19.000000</td>\n",
       "      <td>0.000000</td>\n",
       "      <td>250.000000</td>\n",
       "      <td>4.000000</td>\n",
       "    </tr>\n",
       "    <tr>\n",
       "      <th>25%</th>\n",
       "      <td>249.750000</td>\n",
       "      <td>27.000000</td>\n",
       "      <td>2.000000</td>\n",
       "      <td>1365.500000</td>\n",
       "      <td>12.000000</td>\n",
       "    </tr>\n",
       "    <tr>\n",
       "      <th>50%</th>\n",
       "      <td>499.500000</td>\n",
       "      <td>33.000000</td>\n",
       "      <td>2.000000</td>\n",
       "      <td>2319.500000</td>\n",
       "      <td>18.000000</td>\n",
       "    </tr>\n",
       "    <tr>\n",
       "      <th>75%</th>\n",
       "      <td>749.250000</td>\n",
       "      <td>42.000000</td>\n",
       "      <td>2.000000</td>\n",
       "      <td>3972.250000</td>\n",
       "      <td>24.000000</td>\n",
       "    </tr>\n",
       "    <tr>\n",
       "      <th>max</th>\n",
       "      <td>999.000000</td>\n",
       "      <td>75.000000</td>\n",
       "      <td>3.000000</td>\n",
       "      <td>18424.000000</td>\n",
       "      <td>72.000000</td>\n",
       "    </tr>\n",
       "  </tbody>\n",
       "</table>\n",
       "</div>"
      ],
      "text/plain": [
       "        Unnamed: 0          Age          Job  Credit amount     Duration\n",
       "count  1000.000000  1000.000000  1000.000000    1000.000000  1000.000000\n",
       "mean    499.500000    35.546000     1.904000    3271.258000    20.903000\n",
       "std     288.819436    11.375469     0.653614    2822.736876    12.058814\n",
       "min       0.000000    19.000000     0.000000     250.000000     4.000000\n",
       "25%     249.750000    27.000000     2.000000    1365.500000    12.000000\n",
       "50%     499.500000    33.000000     2.000000    2319.500000    18.000000\n",
       "75%     749.250000    42.000000     2.000000    3972.250000    24.000000\n",
       "max     999.000000    75.000000     3.000000   18424.000000    72.000000"
      ]
     },
     "execution_count": 6,
     "metadata": {},
     "output_type": "execute_result"
    }
   ],
   "source": [
    "data.describe()"
   ]
  },
  {
   "cell_type": "code",
   "execution_count": 7,
   "id": "bd8c476c-f7a9-47be-bf99-f8ef6395ba7e",
   "metadata": {},
   "outputs": [
    {
     "data": {
      "text/plain": [
       "Unnamed: 0          1000\n",
       "Age                   53\n",
       "Sex                    2\n",
       "Job                    4\n",
       "Housing                3\n",
       "Saving accounts        4\n",
       "Checking account       3\n",
       "Credit amount        921\n",
       "Duration              33\n",
       "Purpose                8\n",
       "dtype: int64"
      ]
     },
     "execution_count": 7,
     "metadata": {},
     "output_type": "execute_result"
    }
   ],
   "source": [
    "data.nunique()"
   ]
  },
  {
   "cell_type": "markdown",
   "id": "ec07253a-0cd0-459b-b3b5-595c08312aaa",
   "metadata": {},
   "source": [
    "### Checking for Missing Values\n",
    "https://www.atlassian.com/data/notebook/how-to-check-if-any-value-is-nan-in-a-pandas-dataframe"
   ]
  },
  {
   "cell_type": "code",
   "execution_count": 8,
   "id": "992efe6d-9dfe-4a21-8adc-e9fe86ac3bfb",
   "metadata": {},
   "outputs": [
    {
     "data": {
      "text/plain": [
       "Unnamed: 0            0\n",
       "Age                   0\n",
       "Sex                   0\n",
       "Job                   0\n",
       "Housing               0\n",
       "Saving accounts     183\n",
       "Checking account    394\n",
       "Credit amount         0\n",
       "Duration              0\n",
       "Purpose               0\n",
       "dtype: int64"
      ]
     },
     "execution_count": 8,
     "metadata": {},
     "output_type": "execute_result"
    }
   ],
   "source": [
    "data.isnull().sum()"
   ]
  },
  {
   "cell_type": "markdown",
   "id": "7a20fad9-b3b7-41a7-bc86-aa25987dea55",
   "metadata": {},
   "source": [
    "### Checking for Duplicates\n",
    "https://pandas.pydata.org/docs/reference/api/pandas.DataFrame.duplicated.html"
   ]
  },
  {
   "cell_type": "code",
   "execution_count": 9,
   "id": "c9dd3671-4cee-49d4-bf52-a176f189f50f",
   "metadata": {},
   "outputs": [
    {
     "data": {
      "text/plain": [
       "False"
      ]
     },
     "execution_count": 9,
     "metadata": {},
     "output_type": "execute_result"
    }
   ],
   "source": [
    "data.duplicated(subset=data.columns[1:]).any()"
   ]
  },
  {
   "cell_type": "markdown",
   "id": "a163478f-42d8-4f51-a1e6-0ed9425e5230",
   "metadata": {},
   "source": [
    "## Insights"
   ]
  },
  {
   "cell_type": "markdown",
   "id": "9d3eac61-8f25-4c1f-a5e3-596e74aad50a",
   "metadata": {},
   "source": [
    "### Insight 1:"
   ]
  },
  {
   "cell_type": "code",
   "execution_count": 78,
   "id": "19948677-6334-44e6-a8b6-ea9b7eb44571",
   "metadata": {},
   "outputs": [
    {
     "data": {
      "image/png": "[encoded data removed]",
      "text/plain": [
       "<Figure size 640x480 with 1 Axes>"
      ]
     },
     "metadata": {},
     "output_type": "display_data"
    }
   ],
   "source": [
    "# Create a histogram of valence\n",
    "sns.histplot(data=data, x=\"Credit amount\", bins=15, color=\"darkseagreen\")\n",
    "\n",
    "# Label the histogram\n",
    "plt.xlabel('Credit amount')\n",
    "plt.ylabel('Frequency')\n",
    "plt.title('')\n",
    "\n",
    "plt.show()"
   ]
  },
  {
   "cell_type": "markdown",
   "id": "55b8ac97-a606-4a1a-b6ee-d21cf5282035",
   "metadata": {},
   "source": [
    "### Insight 2:"
   ]
  },
  {
   "cell_type": "markdown",
   "id": "937d2455-aee4-4777-9d3b-7b6e05fc69d4",
   "metadata": {},
   "source": [
    "### Insight 3:"
   ]
  },
  {
   "cell_type": "markdown",
   "id": "95024540-e9f6-4eb0-a2e3-b4fa858d1f91",
   "metadata": {},
   "source": [
    "### Insight 4:"
   ]
  },
  {
   "cell_type": "markdown",
   "id": "cb2bd015-ea39-40c0-8b5e-01881830a1a9",
   "metadata": {},
   "source": [
    "### Insight 5:"
   ]
  },
  {
   "cell_type": "markdown",
   "id": "2f596272-a919-4ad9-a5b3-53a41051a1d6",
   "metadata": {},
   "source": [
    "### Insight 6: r6 - use the scatterplot to highlight correlation"
   ]
  },
  {
   "cell_type": "code",
   "execution_count": 69,
   "id": "ac6d0a9e-8f05-40ab-bfa9-db7b16df1cf4",
   "metadata": {},
   "outputs": [
    {
     "data": {
      "text/plain": [
       "Text(0, 70, 'Pearson r = 0.62')"
      ]
     },
     "execution_count": 69,
     "metadata": {},
     "output_type": "execute_result"
    },
    {
     "data": {
      "image/png": "[encoded data removed]",
      "text/plain": [
       "<Figure size 640x480 with 1 Axes>"
      ]
     },
     "metadata": {},
     "output_type": "display_data"
    }
   ],
   "source": [
    "graph = sns.regplot(data=data, x=\"Credit amount\", y=\"Duration\", scatter_kws={\"color\": \"darkseagreen\", \"alpha\": 0.5}, line_kws={\"color\": \"black\"})\n",
    "pearson_correlation = data['Duration'].corr(data['Credit amount'])\n",
    "graph.text(\n",
    "    0, 70,\n",
    "    f\"Pearson r = {pearson_correlation:.2f}\",\n",
    "    fontsize=10\n",
    ")"
   ]
  },
  {
   "cell_type": "code",
   "execution_count": null,
   "id": "6837208d-3c3e-4bc0-b53b-239a3065703f",
   "metadata": {},
   "outputs": [],
   "source": []
  },
  {
   "cell_type": "markdown",
   "id": "3f57b06c-f0e8-490f-bb9f-a565468ec601",
   "metadata": {},
   "source": [
    "### Insight 7:"
   ]
  },
  {
   "cell_type": "markdown",
   "id": "603a5b4d-8590-4ded-9538-ccb97c391bc4",
   "metadata": {},
   "source": [
    "### Insight 8:"
   ]
  },
  {
   "cell_type": "markdown",
   "id": "15ea1d17-6ab0-4f9b-a221-c60a39bded67",
   "metadata": {},
   "source": [
    "### Insight 9:"
   ]
  },
  {
   "cell_type": "markdown",
   "id": "a0ed13c7-652f-4d20-ba30-1c442f80a7db",
   "metadata": {},
   "source": [
    "### Insight 10:"
   ]
  },
  {
   "cell_type": "code",
   "execution_count": null,
   "id": "b58b8479-4c0c-41eb-82fd-6de1d4ed9dd4",
   "metadata": {},
   "outputs": [],
   "source": [
    "numeric_df = data.select_dtypes(include=\"number\")\n",
    "\n",
    "# Compute correlation matrix for numeric columns\n",
    "corr_matrix = numeric_df.corr()\n",
    "\n",
    "# Display correlation matrix\n",
    "print(corr_matrix)"
   ]
  },
  {
   "cell_type": "code",
   "execution_count": null,
   "id": "340f0d6e-50ee-4044-9e09-d0968472843a",
   "metadata": {},
   "outputs": [],
   "source": []
  }
 ],
 "metadata": {
  "kernelspec": {
   "display_name": "Python 3 (ipykernel)",
   "language": "python",
   "name": "python3"
  },
  "language_info": {
   "codemirror_mode": {
    "name": "ipython",
    "version": 3
   },
   "file_extension": ".py",
   "mimetype": "text/x-python",
   "name": "python",
   "nbconvert_exporter": "python",
   "pygments_lexer": "ipython3",
   "version": "3.12.2"
  }
 },
 "nbformat": 4,
 "nbformat_minor": 5
}
