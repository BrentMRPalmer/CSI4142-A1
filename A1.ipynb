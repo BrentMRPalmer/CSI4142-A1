{
 "cells": [
  {
   "cell_type": "markdown",
   "id": "c90b97d0-0322-495f-b0e2-5da5dd35c0d4",
   "metadata": {},
   "source": [
    "# Assignment 1: Exploratory Data Analysis\n",
    "## Group 22\n",
    "- Natasa Bolic (300241734)\n",
    "- Brent Palmer (300193610)\n",
    "## Imports"
   ]
  },
  {
   "cell_type": "code",
   "execution_count": 4,
   "id": "c390ebf8-1d95-451f-b62d-267ee1743e2d",
   "metadata": {},
   "outputs": [],
   "source": [
    "import pandas as pd\n",
    "import numpy as np\n",
    "import matplotlib.pyplot as plt\n",
    "import seaborn as sns"
   ]
  },
  {
   "cell_type": "markdown",
   "id": "c9133aee-cb28-498e-af3f-a1c3ded8ca98",
   "metadata": {},
   "source": [
    "# Dataset 1: The Influence of Demographics on Digital Consumption"
   ]
  },
  {
   "cell_type": "markdown",
   "id": "61ee889a-cabf-464b-9121-feb9fb7e90d5",
   "metadata": {},
   "source": [
    "### Dataset Description\n",
    "**Url:** https://www.kaggle.com/datasets/valakhorasani/mobile-device-usage-and-user-behavior-dataset/data <br>\n",
    "**Name:** Mobile Device Usage and User Behaviour <br>\n",
    "**Author:** Seyedvala Khorasani<br>\n",
    "**Purpose:** The dataset provides researchers, data scientists, and analysts an opportunity to develop predictive models based on mobile user behaviour. The author specifies that the dataset is intended to be an educational resource for machine learning algorithms and emphasizes that it must not be treated as a \n",
    "reliable source.<br>\n",
    "**Shape:** There are 700 rows and 11 columns. (700,11) <br>\n",
    "**Features:** \n",
    "- `User ID` (category): Uniquely identifies each user.\n",
    "- `Device Model` (category): The model name of the user's phone.\n",
    "- `Operating System` (category): The operating system of the user's phone (Android or iOS).\n",
    "- `App Usage Time (min/day)` (numerical): The user's daily time spent on apps (mins).\n",
    "- `Screen On Time (hours/day)` (numerical): The user's daily time with an active screen (hours).\n",
    "- `Battery Drain (mAh/day)` (numerical): The user's daily battery consumption (mAh).\n",
    "- `Number of Apps Installed` (numerical): The number of apps the user has installed.\n",
    "- `Data Usage (MB/day)` (numerical): The average data usage per day of the user (MB).\n",
    "- `Age` (numerical): The age of the user.\n",
    "- `Gender` (categorical): The gender of the user.\n",
    "- `User Behavior Class` (categorical): Class of user behaviour from 1 (light usage) to 5 (extreme usage)."
   ]
  },
  {
   "cell_type": "markdown",
   "id": "c044e985-c929-49c1-b471-8622cb23a13b",
   "metadata": {},
   "source": [
    "**Redundancy:** There is no redundancy in the dataset. Each row has a unique user ID in the first column. To check if there are any duplicate rows excluding the user ID, you can provide the `.duplicated()` method all of the other columns as follows: `data.duplicated(subset=data.columns[1:]).any()`. This will return `True` if any rows are duplicated. Since it returns `False`, there is no redundancy. <br>\n",
    "**Missing Values:** There are no missing values in the dataset. The method `data.isnull().sum()` will return the number of missing values in each column. Since the total is 0 for each column, there are no missing values."
   ]
  },
  {
   "cell_type": "markdown",
   "id": "26117b25-6cbc-45d6-bd2c-ae79479a63d5",
   "metadata": {},
   "source": [
    "## Dataset Overview (in Code)"
   ]
  },
  {
   "cell_type": "markdown",
   "id": "d58425d2-ac0b-4ed8-bd44-b988c787d41d",
   "metadata": {},
   "source": [
    "### Extract the Dataset (Mobile Device Usage and User Behaviour)"
   ]
  },
  {
   "cell_type": "code",
   "execution_count": 15,
   "id": "1ee91866-6345-4bef-a179-d451ae0b7140",
   "metadata": {},
   "outputs": [],
   "source": [
    "url = \"https://raw.githubusercontent.com/BrentMRPalmer/mobile-data/refs/heads/main/user_behavior_dataset.csv\"\n",
    "data = pd.read_csv(url)"
   ]
  },
  {
   "cell_type": "code",
   "execution_count": 14,
   "id": "7951e2a3-9912-42a9-be57-6d516c0f2755",
   "metadata": {},
   "outputs": [
    {
     "data": {
      "text/html": [
       "<div>\n",
       "<style scoped>\n",
       "    .dataframe tbody tr th:only-of-type {\n",
       "        vertical-align: middle;\n",
       "    }\n",
       "\n",
       "    .dataframe tbody tr th {\n",
       "        vertical-align: top;\n",
       "    }\n",
       "\n",
       "    .dataframe thead th {\n",
       "        text-align: right;\n",
       "    }\n",
       "</style>\n",
       "<table border=\"1\" class=\"dataframe\">\n",
       "  <thead>\n",
       "    <tr style=\"text-align: right;\">\n",
       "      <th></th>\n",
       "      <th>User ID</th>\n",
       "      <th>Device Model</th>\n",
       "      <th>Operating System</th>\n",
       "      <th>App Usage Time (min/day)</th>\n",
       "      <th>Screen On Time (hours/day)</th>\n",
       "      <th>Battery Drain (mAh/day)</th>\n",
       "      <th>Number of Apps Installed</th>\n",
       "      <th>Data Usage (MB/day)</th>\n",
       "      <th>Age</th>\n",
       "      <th>Gender</th>\n",
       "      <th>User Behavior Class</th>\n",
       "    </tr>\n",
       "  </thead>\n",
       "  <tbody>\n",
       "    <tr>\n",
       "      <th>0</th>\n",
       "      <td>1</td>\n",
       "      <td>Google Pixel 5</td>\n",
       "      <td>Android</td>\n",
       "      <td>393</td>\n",
       "      <td>6.4</td>\n",
       "      <td>1872</td>\n",
       "      <td>67</td>\n",
       "      <td>1122</td>\n",
       "      <td>40</td>\n",
       "      <td>Male</td>\n",
       "      <td>4</td>\n",
       "    </tr>\n",
       "    <tr>\n",
       "      <th>1</th>\n",
       "      <td>2</td>\n",
       "      <td>OnePlus 9</td>\n",
       "      <td>Android</td>\n",
       "      <td>268</td>\n",
       "      <td>4.7</td>\n",
       "      <td>1331</td>\n",
       "      <td>42</td>\n",
       "      <td>944</td>\n",
       "      <td>47</td>\n",
       "      <td>Female</td>\n",
       "      <td>3</td>\n",
       "    </tr>\n",
       "    <tr>\n",
       "      <th>2</th>\n",
       "      <td>3</td>\n",
       "      <td>Xiaomi Mi 11</td>\n",
       "      <td>Android</td>\n",
       "      <td>154</td>\n",
       "      <td>4.0</td>\n",
       "      <td>761</td>\n",
       "      <td>32</td>\n",
       "      <td>322</td>\n",
       "      <td>42</td>\n",
       "      <td>Male</td>\n",
       "      <td>2</td>\n",
       "    </tr>\n",
       "    <tr>\n",
       "      <th>3</th>\n",
       "      <td>4</td>\n",
       "      <td>Google Pixel 5</td>\n",
       "      <td>Android</td>\n",
       "      <td>239</td>\n",
       "      <td>4.8</td>\n",
       "      <td>1676</td>\n",
       "      <td>56</td>\n",
       "      <td>871</td>\n",
       "      <td>20</td>\n",
       "      <td>Male</td>\n",
       "      <td>3</td>\n",
       "    </tr>\n",
       "    <tr>\n",
       "      <th>4</th>\n",
       "      <td>5</td>\n",
       "      <td>iPhone 12</td>\n",
       "      <td>iOS</td>\n",
       "      <td>187</td>\n",
       "      <td>4.3</td>\n",
       "      <td>1367</td>\n",
       "      <td>58</td>\n",
       "      <td>988</td>\n",
       "      <td>31</td>\n",
       "      <td>Female</td>\n",
       "      <td>3</td>\n",
       "    </tr>\n",
       "  </tbody>\n",
       "</table>\n",
       "</div>"
      ],
      "text/plain": [
       "   User ID    Device Model Operating System  App Usage Time (min/day)  \\\n",
       "0        1  Google Pixel 5          Android                       393   \n",
       "1        2       OnePlus 9          Android                       268   \n",
       "2        3    Xiaomi Mi 11          Android                       154   \n",
       "3        4  Google Pixel 5          Android                       239   \n",
       "4        5       iPhone 12              iOS                       187   \n",
       "\n",
       "   Screen On Time (hours/day)  Battery Drain (mAh/day)  \\\n",
       "0                         6.4                     1872   \n",
       "1                         4.7                     1331   \n",
       "2                         4.0                      761   \n",
       "3                         4.8                     1676   \n",
       "4                         4.3                     1367   \n",
       "\n",
       "   Number of Apps Installed  Data Usage (MB/day)  Age  Gender  \\\n",
       "0                        67                 1122   40    Male   \n",
       "1                        42                  944   47  Female   \n",
       "2                        32                  322   42    Male   \n",
       "3                        56                  871   20    Male   \n",
       "4                        58                  988   31  Female   \n",
       "\n",
       "   User Behavior Class  \n",
       "0                    4  \n",
       "1                    3  \n",
       "2                    2  \n",
       "3                    3  \n",
       "4                    3  "
      ]
     },
     "execution_count": 14,
     "metadata": {},
     "output_type": "execute_result"
    }
   ],
   "source": [
    "data.head()"
   ]
  },
  {
   "cell_type": "code",
   "execution_count": 12,
   "id": "785be8e0-daf3-459f-be93-baa7fbc6eaf0",
   "metadata": {},
   "outputs": [
    {
     "data": {
      "text/plain": [
       "(700, 11)"
      ]
     },
     "execution_count": 12,
     "metadata": {},
     "output_type": "execute_result"
    }
   ],
   "source": [
    "data.shape"
   ]
  },
  {
   "cell_type": "code",
   "execution_count": 13,
   "id": "c5c8f2ee-72d6-4cd5-8bb7-fbbd17cc35b0",
   "metadata": {},
   "outputs": [
    {
     "name": "stdout",
     "output_type": "stream",
     "text": [
      "<class 'pandas.core.frame.DataFrame'>\n",
      "RangeIndex: 700 entries, 0 to 699\n",
      "Data columns (total 11 columns):\n",
      " #   Column                      Non-Null Count  Dtype  \n",
      "---  ------                      --------------  -----  \n",
      " 0   User ID                     700 non-null    int64  \n",
      " 1   Device Model                700 non-null    object \n",
      " 2   Operating System            700 non-null    object \n",
      " 3   App Usage Time (min/day)    700 non-null    int64  \n",
      " 4   Screen On Time (hours/day)  700 non-null    float64\n",
      " 5   Battery Drain (mAh/day)     700 non-null    int64  \n",
      " 6   Number of Apps Installed    700 non-null    int64  \n",
      " 7   Data Usage (MB/day)         700 non-null    int64  \n",
      " 8   Age                         700 non-null    int64  \n",
      " 9   Gender                      700 non-null    object \n",
      " 10  User Behavior Class         700 non-null    int64  \n",
      "dtypes: float64(1), int64(7), object(3)\n",
      "memory usage: 60.3+ KB\n"
     ]
    }
   ],
   "source": [
    "data.info()"
   ]
  },
  {
   "cell_type": "code",
   "execution_count": 10,
   "id": "913086fa-9f1f-4892-a873-9ee3299daa6a",
   "metadata": {},
   "outputs": [
    {
     "data": {
      "text/html": [
       "<div>\n",
       "<style scoped>\n",
       "    .dataframe tbody tr th:only-of-type {\n",
       "        vertical-align: middle;\n",
       "    }\n",
       "\n",
       "    .dataframe tbody tr th {\n",
       "        vertical-align: top;\n",
       "    }\n",
       "\n",
       "    .dataframe thead th {\n",
       "        text-align: right;\n",
       "    }\n",
       "</style>\n",
       "<table border=\"1\" class=\"dataframe\">\n",
       "  <thead>\n",
       "    <tr style=\"text-align: right;\">\n",
       "      <th></th>\n",
       "      <th>User ID</th>\n",
       "      <th>App Usage Time (min/day)</th>\n",
       "      <th>Screen On Time (hours/day)</th>\n",
       "      <th>Battery Drain (mAh/day)</th>\n",
       "      <th>Number of Apps Installed</th>\n",
       "      <th>Data Usage (MB/day)</th>\n",
       "      <th>Age</th>\n",
       "      <th>User Behavior Class</th>\n",
       "    </tr>\n",
       "  </thead>\n",
       "  <tbody>\n",
       "    <tr>\n",
       "      <th>count</th>\n",
       "      <td>700.00000</td>\n",
       "      <td>700.000000</td>\n",
       "      <td>700.000000</td>\n",
       "      <td>700.000000</td>\n",
       "      <td>700.000000</td>\n",
       "      <td>700.000000</td>\n",
       "      <td>700.000000</td>\n",
       "      <td>700.000000</td>\n",
       "    </tr>\n",
       "    <tr>\n",
       "      <th>mean</th>\n",
       "      <td>350.50000</td>\n",
       "      <td>271.128571</td>\n",
       "      <td>5.272714</td>\n",
       "      <td>1525.158571</td>\n",
       "      <td>50.681429</td>\n",
       "      <td>929.742857</td>\n",
       "      <td>38.482857</td>\n",
       "      <td>2.990000</td>\n",
       "    </tr>\n",
       "    <tr>\n",
       "      <th>std</th>\n",
       "      <td>202.21688</td>\n",
       "      <td>177.199484</td>\n",
       "      <td>3.068584</td>\n",
       "      <td>819.136414</td>\n",
       "      <td>26.943324</td>\n",
       "      <td>640.451729</td>\n",
       "      <td>12.012916</td>\n",
       "      <td>1.401476</td>\n",
       "    </tr>\n",
       "    <tr>\n",
       "      <th>min</th>\n",
       "      <td>1.00000</td>\n",
       "      <td>30.000000</td>\n",
       "      <td>1.000000</td>\n",
       "      <td>302.000000</td>\n",
       "      <td>10.000000</td>\n",
       "      <td>102.000000</td>\n",
       "      <td>18.000000</td>\n",
       "      <td>1.000000</td>\n",
       "    </tr>\n",
       "    <tr>\n",
       "      <th>25%</th>\n",
       "      <td>175.75000</td>\n",
       "      <td>113.250000</td>\n",
       "      <td>2.500000</td>\n",
       "      <td>722.250000</td>\n",
       "      <td>26.000000</td>\n",
       "      <td>373.000000</td>\n",
       "      <td>28.000000</td>\n",
       "      <td>2.000000</td>\n",
       "    </tr>\n",
       "    <tr>\n",
       "      <th>50%</th>\n",
       "      <td>350.50000</td>\n",
       "      <td>227.500000</td>\n",
       "      <td>4.900000</td>\n",
       "      <td>1502.500000</td>\n",
       "      <td>49.000000</td>\n",
       "      <td>823.500000</td>\n",
       "      <td>38.000000</td>\n",
       "      <td>3.000000</td>\n",
       "    </tr>\n",
       "    <tr>\n",
       "      <th>75%</th>\n",
       "      <td>525.25000</td>\n",
       "      <td>434.250000</td>\n",
       "      <td>7.400000</td>\n",
       "      <td>2229.500000</td>\n",
       "      <td>74.000000</td>\n",
       "      <td>1341.000000</td>\n",
       "      <td>49.000000</td>\n",
       "      <td>4.000000</td>\n",
       "    </tr>\n",
       "    <tr>\n",
       "      <th>max</th>\n",
       "      <td>700.00000</td>\n",
       "      <td>598.000000</td>\n",
       "      <td>12.000000</td>\n",
       "      <td>2993.000000</td>\n",
       "      <td>99.000000</td>\n",
       "      <td>2497.000000</td>\n",
       "      <td>59.000000</td>\n",
       "      <td>5.000000</td>\n",
       "    </tr>\n",
       "  </tbody>\n",
       "</table>\n",
       "</div>"
      ],
      "text/plain": [
       "         User ID  App Usage Time (min/day)  Screen On Time (hours/day)  \\\n",
       "count  700.00000                700.000000                  700.000000   \n",
       "mean   350.50000                271.128571                    5.272714   \n",
       "std    202.21688                177.199484                    3.068584   \n",
       "min      1.00000                 30.000000                    1.000000   \n",
       "25%    175.75000                113.250000                    2.500000   \n",
       "50%    350.50000                227.500000                    4.900000   \n",
       "75%    525.25000                434.250000                    7.400000   \n",
       "max    700.00000                598.000000                   12.000000   \n",
       "\n",
       "       Battery Drain (mAh/day)  Number of Apps Installed  Data Usage (MB/day)  \\\n",
       "count               700.000000                700.000000           700.000000   \n",
       "mean               1525.158571                 50.681429           929.742857   \n",
       "std                 819.136414                 26.943324           640.451729   \n",
       "min                 302.000000                 10.000000           102.000000   \n",
       "25%                 722.250000                 26.000000           373.000000   \n",
       "50%                1502.500000                 49.000000           823.500000   \n",
       "75%                2229.500000                 74.000000          1341.000000   \n",
       "max                2993.000000                 99.000000          2497.000000   \n",
       "\n",
       "              Age  User Behavior Class  \n",
       "count  700.000000           700.000000  \n",
       "mean    38.482857             2.990000  \n",
       "std     12.012916             1.401476  \n",
       "min     18.000000             1.000000  \n",
       "25%     28.000000             2.000000  \n",
       "50%     38.000000             3.000000  \n",
       "75%     49.000000             4.000000  \n",
       "max     59.000000             5.000000  "
      ]
     },
     "execution_count": 10,
     "metadata": {},
     "output_type": "execute_result"
    }
   ],
   "source": [
    "data.describe()"
   ]
  },
  {
   "cell_type": "code",
   "execution_count": 17,
   "id": "bd8c476c-f7a9-47be-bf99-f8ef6395ba7e",
   "metadata": {},
   "outputs": [
    {
     "data": {
      "text/plain": [
       "User ID                       700\n",
       "Device Model                    5\n",
       "Operating System                2\n",
       "App Usage Time (min/day)      387\n",
       "Screen On Time (hours/day)    108\n",
       "Battery Drain (mAh/day)       628\n",
       "Number of Apps Installed       86\n",
       "Data Usage (MB/day)           585\n",
       "Age                            42\n",
       "Gender                          2\n",
       "User Behavior Class             5\n",
       "dtype: int64"
      ]
     },
     "execution_count": 17,
     "metadata": {},
     "output_type": "execute_result"
    }
   ],
   "source": [
    "data.nunique()"
   ]
  },
  {
   "cell_type": "markdown",
   "id": "ec07253a-0cd0-459b-b3b5-595c08312aaa",
   "metadata": {},
   "source": [
    "### Checking for Missing Values\n",
    "https://www.atlassian.com/data/notebook/how-to-check-if-any-value-is-nan-in-a-pandas-dataframe"
   ]
  },
  {
   "cell_type": "code",
   "execution_count": 20,
   "id": "992efe6d-9dfe-4a21-8adc-e9fe86ac3bfb",
   "metadata": {},
   "outputs": [
    {
     "data": {
      "text/plain": [
       "User ID                       0\n",
       "Device Model                  0\n",
       "Operating System              0\n",
       "App Usage Time (min/day)      0\n",
       "Screen On Time (hours/day)    0\n",
       "Battery Drain (mAh/day)       0\n",
       "Number of Apps Installed      0\n",
       "Data Usage (MB/day)           0\n",
       "Age                           0\n",
       "Gender                        0\n",
       "User Behavior Class           0\n",
       "dtype: int64"
      ]
     },
     "execution_count": 20,
     "metadata": {},
     "output_type": "execute_result"
    }
   ],
   "source": [
    "data.isnull().sum()"
   ]
  },
  {
   "cell_type": "markdown",
   "id": "7a20fad9-b3b7-41a7-bc86-aa25987dea55",
   "metadata": {},
   "source": [
    "### Checking for Duplicates\n",
    "https://pandas.pydata.org/docs/reference/api/pandas.DataFrame.duplicated.html"
   ]
  },
  {
   "cell_type": "code",
   "execution_count": 24,
   "id": "c9dd3671-4cee-49d4-bf52-a176f189f50f",
   "metadata": {},
   "outputs": [
    {
     "data": {
      "text/plain": [
       "False"
      ]
     },
     "execution_count": 24,
     "metadata": {},
     "output_type": "execute_result"
    }
   ],
   "source": [
    "data.duplicated(subset=data.columns[1:]).any()"
   ]
  },
  {
   "cell_type": "markdown",
   "id": "a163478f-42d8-4f51-a1e6-0ed9425e5230",
   "metadata": {},
   "source": [
    "## Insights"
   ]
  },
  {
   "cell_type": "markdown",
   "id": "9d3eac61-8f25-4c1f-a5e3-596e74aad50a",
   "metadata": {},
   "source": [
    "### Insight 1:"
   ]
  },
  {
   "cell_type": "markdown",
   "id": "55b8ac97-a606-4a1a-b6ee-d21cf5282035",
   "metadata": {},
   "source": [
    "### Insight 2:"
   ]
  },
  {
   "cell_type": "markdown",
   "id": "937d2455-aee4-4777-9d3b-7b6e05fc69d4",
   "metadata": {},
   "source": [
    "### Insight 3:"
   ]
  },
  {
   "cell_type": "markdown",
   "id": "95024540-e9f6-4eb0-a2e3-b4fa858d1f91",
   "metadata": {},
   "source": [
    "### Insight 4:"
   ]
  },
  {
   "cell_type": "markdown",
   "id": "cb2bd015-ea39-40c0-8b5e-01881830a1a9",
   "metadata": {},
   "source": [
    "### Insight 5:"
   ]
  },
  {
   "cell_type": "markdown",
   "id": "2f596272-a919-4ad9-a5b3-53a41051a1d6",
   "metadata": {},
   "source": [
    "### Insight 6: r6 - use the scatterplot to highlight correlation"
   ]
  },
  {
   "cell_type": "markdown",
   "id": "3f57b06c-f0e8-490f-bb9f-a565468ec601",
   "metadata": {},
   "source": [
    "### Insight 7:"
   ]
  },
  {
   "cell_type": "markdown",
   "id": "603a5b4d-8590-4ded-9538-ccb97c391bc4",
   "metadata": {},
   "source": [
    "### Insight 8:"
   ]
  },
  {
   "cell_type": "markdown",
   "id": "15ea1d17-6ab0-4f9b-a221-c60a39bded67",
   "metadata": {},
   "source": [
    "### Insight 9:"
   ]
  },
  {
   "cell_type": "markdown",
   "id": "a0ed13c7-652f-4d20-ba30-1c442f80a7db",
   "metadata": {},
   "source": [
    "### Insight 10:"
   ]
  },
  {
   "cell_type": "code",
   "execution_count": null,
   "id": "b58b8479-4c0c-41eb-82fd-6de1d4ed9dd4",
   "metadata": {},
   "outputs": [],
   "source": []
  }
 ],
 "metadata": {
  "kernelspec": {
   "display_name": "Python 3 (ipykernel)",
   "language": "python",
   "name": "python3"
  },
  "language_info": {
   "codemirror_mode": {
    "name": "ipython",
    "version": 3
   },
   "file_extension": ".py",
   "mimetype": "text/x-python",
   "name": "python",
   "nbconvert_exporter": "python",
   "pygments_lexer": "ipython3",
   "version": "3.12.2"
  }
 },
 "nbformat": 4,
 "nbformat_minor": 5
}
